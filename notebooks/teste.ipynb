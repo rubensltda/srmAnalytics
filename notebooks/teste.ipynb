{
 "cells": [
  {
   "cell_type": "code",
   "execution_count": 22,
   "metadata": {},
   "outputs": [
    {
     "name": "stdout",
     "output_type": "stream",
     "text": [
      "r1@gmail.com, r2@gmail.com\n"
     ]
    }
   ],
   "source": [
    "txt_receiver = [\"r1@gmail.com\", \"r2@gmail.com\"]\n",
    "\n",
    "#x = ', '.join(txt_receiver)\n",
    "x = ', '.join(txt_receiver)\n",
    "\n",
    "print(x)"
   ]
  },
  {
   "cell_type": "code",
   "execution_count": null,
   "metadata": {},
   "outputs": [],
   "source": []
  }
 ],
 "metadata": {
  "kernelspec": {
   "display_name": "Python 3.8.10 ('venv': venv)",
   "language": "python",
   "name": "python3"
  },
  "language_info": {
   "codemirror_mode": {
    "name": "ipython",
    "version": 3
   },
   "file_extension": ".py",
   "mimetype": "text/x-python",
   "name": "python",
   "nbconvert_exporter": "python",
   "pygments_lexer": "ipython3",
   "version": "3.8.10"
  },
  "orig_nbformat": 4,
  "vscode": {
   "interpreter": {
    "hash": "ddd92103883e93516624e2d7adb34f42b4fa55ac07618e3e29cadc935d72b911"
   }
  }
 },
 "nbformat": 4,
 "nbformat_minor": 2
}
