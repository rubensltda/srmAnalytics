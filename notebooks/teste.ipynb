{
 "cells": [
  {
   "cell_type": "code",
   "execution_count": 22,
   "metadata": {},
   "outputs": [
    {
     "name": "stdout",
     "output_type": "stream",
     "text": [
      "r1@gmail.com, r2@gmail.com\n"
     ]
    }
   ],
   "source": [
    "txt_receiver = [\"r1@gmail.com\", \"r2@gmail.com\"]\n",
    "\n",
    "#x = ', '.join(txt_receiver)\n",
    "x = ', '.join(txt_receiver)\n",
    "\n",
    "print(x)"
   ]
  },
  {
   "cell_type": "code",
   "execution_count": 5,
   "metadata": {},
   "outputs": [
    {
     "name": "stdout",
     "output_type": "stream",
     "text": [
      "[(263706, '● teste.ipynb - srmAnalytics - Visual Studio Code'), (722894, 'C:\\\\Windows\\\\System32\\\\cmd.exe'), (722506, 'Untitled - Notepad'), (526240, 'C:\\\\Users\\\\RUBENSH\\\\local\\\\srmAnalytics'), (66860, 'Cisco Jabber'), (131586, 'Calculator'), (132552, 'Calculator'), (196668, 'Microsoft Text Input Application'), (458950, 'Settings'), (196730, 'Settings'), (66728, 'Chat | Microsoft Teams'), (65946, 'Program Manager')]\n"
     ]
    }
   ],
   "source": [
    "#this code list the open windows\n",
    "\n",
    "import time\n",
    "import random\n",
    "from pynput.keyboard import Key, Controller\n",
    "import win32gui\n",
    "import win32com.client\n",
    "import datetime as dt\n",
    "\n",
    "def window_enum_handler(hwnd, resultList):\n",
    "        if win32gui.IsWindowVisible(hwnd) and win32gui.GetWindowText(hwnd) != '':\n",
    "            resultList.append((hwnd, win32gui.GetWindowText(hwnd)))\n",
    "\n",
    "handles=[]\n",
    "mlst=[]\n",
    "win32gui.EnumWindows(window_enum_handler, handles)\n",
    "for handle in handles:\n",
    "    mlst.append(handle)\n",
    "print(mlst)\n",
    "\n"
   ]
  },
  {
   "cell_type": "code",
   "execution_count": null,
   "metadata": {},
   "outputs": [],
   "source": []
  }
 ],
 "metadata": {
  "kernelspec": {
   "display_name": "Python 3.8.10 ('venv': venv)",
   "language": "python",
   "name": "python3"
  },
  "language_info": {
   "codemirror_mode": {
    "name": "ipython",
    "version": 3
   },
   "file_extension": ".py",
   "mimetype": "text/x-python",
   "name": "python",
   "nbconvert_exporter": "python",
   "pygments_lexer": "ipython3",
   "version": "3.8.10"
  },
  "orig_nbformat": 4,
  "vscode": {
   "interpreter": {
    "hash": "ddd92103883e93516624e2d7adb34f42b4fa55ac07618e3e29cadc935d72b911"
   }
  }
 },
 "nbformat": 4,
 "nbformat_minor": 2
}
