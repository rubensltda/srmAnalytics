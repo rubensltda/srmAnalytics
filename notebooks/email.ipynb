{
 "cells": [
  {
   "cell_type": "code",
   "execution_count": null,
   "metadata": {},
   "outputs": [],
   "source": [
    "print(\"olaa mundo\")"
   ]
  },
  {
   "cell_type": "code",
   "execution_count": 2,
   "metadata": {},
   "outputs": [
    {
     "data": {
      "text/plain": [
       "(221, b'2.0.0 Service closing transmission channel')"
      ]
     },
     "execution_count": 2,
     "metadata": {},
     "output_type": "execute_result"
    }
   ],
   "source": [
    "#not working\n",
    "import smtplib\n",
    "\n",
    "mailserver = smtplib.SMTP('smtp.office365.com',587)\n",
    "mailserver.ehlo()\n",
    "mailserver.starttls()\n",
    "mailserver.login('bloomrmp@iadb.org', 'StrategicRisk22')\n",
    "#mailserver.sendmail('bloomrmp@iadb.org','rubensh@iadb.org','python email')\n",
    "mailserver.quit()"
   ]
  },
  {
   "cell_type": "code",
   "execution_count": 3,
   "metadata": {},
   "outputs": [],
   "source": [
    "# modules\n",
    "import smtplib, ssl\n",
    "from email.message import EmailMessage\n",
    "\n",
    "# content\n",
    "sender = \"bloomrmp@iadb.org\"\n",
    "reciever = \"rubensh@iadb.org\"\n",
    "password = \"StrategicRisk22\"\n",
    "msg_body = \" This email is sent as a test\"\n",
    "\n",
    "# action\n",
    "msg = EmailMessage()\n",
    "msg['subject'] = 'SRM analytics'   \n",
    "msg['from'] = sender\n",
    "msg['to'] = reciever\n",
    "msg.set_content(msg_body)\n",
    "\n",
    "## alternative #1\n",
    "# context = ssl.create_default_context()\n",
    "# with smtplib.SMTP_SSL('smtp.office365.com',587, context=context) as server:\n",
    "with smtplib.SMTP('smtp.office365.com',587) as server:\n",
    "    server.ehlo()\n",
    "    server.starttls()\n",
    "    server.login('bloomrmp@iadb.org', 'StrategicRisk22')\n",
    "    server.sendmail(sender, reciever, msg.as_string())\n",
    "    server.quit()\n",
    "\n",
    "\n",
    "## alternative #2\n",
    "# mailserver = smtplib.SMTP('smtp.office365.com',587)\n",
    "# mailserver.ehlo()\n",
    "# mailserver.starttls()\n",
    "# mailserver.login('bloomrmp@iadb.org', 'StrategicRisk22')\n",
    "# #mailserver.sendmail('bloomrmp@iadb.org','rubensh@iadb.org',msg.as_string())\n",
    "# mailserver.sendmail('bloomrmp@iadb.org','rubensh@iadb.org',msg.as_string())\n",
    "# mailserver.quit()"
   ]
  },
  {
   "cell_type": "code",
   "execution_count": null,
   "metadata": {},
   "outputs": [],
   "source": [
    "import smtplib\n",
    "\n",
    "sender = 'no_reply@mydomain.com'\n",
    "receivers = ['person@otherdomain.com']\n",
    "\n",
    "message = \"\"\"From: No Reply <no_reply@mydomain.com>\n",
    "To: Person <person@otherdomain.com>\n",
    "Subject: Test Email\n",
    "\n",
    "This is a test e-mail message.\n",
    "\"\"\"\n",
    "\n",
    "try:\n",
    "    smtp_obj = smtplib.SMTP('localhost')\n",
    "    smtp_obj.sendmail(sender, receivers, message)         \n",
    "    print(\"Successfully sent email\")\n",
    "except smtplib.SMTPException:\n",
    "    print(\"Error: unable to send email\")"
   ]
  },
  {
   "cell_type": "code",
   "execution_count": 5,
   "metadata": {},
   "outputs": [
    {
     "name": "stdout",
     "output_type": "stream",
     "text": [
      "sylviag@iadb.org, rubensh@iadb.org\n"
     ]
    }
   ],
   "source": [
    "list_test = [\"sylviag@iadb.org\",\"rubensh@iadb.org\"]\n",
    "x = ', '.join(list_test)\n",
    "print(x)"
   ]
  },
  {
   "cell_type": "code",
   "execution_count": null,
   "metadata": {},
   "outputs": [],
   "source": []
  }
 ],
 "metadata": {
  "kernelspec": {
   "display_name": "Python 3.8.10 ('venv': venv)",
   "language": "python",
   "name": "python3"
  },
  "language_info": {
   "codemirror_mode": {
    "name": "ipython",
    "version": 3
   },
   "file_extension": ".py",
   "mimetype": "text/x-python",
   "name": "python",
   "nbconvert_exporter": "python",
   "pygments_lexer": "ipython3",
   "version": "3.8.10"
  },
  "orig_nbformat": 4,
  "vscode": {
   "interpreter": {
    "hash": "01ca2f442ea2766f471234a5c6a686b334d7c1ca90d860462d23c8af7ed1f213"
   }
  }
 },
 "nbformat": 4,
 "nbformat_minor": 2
}
