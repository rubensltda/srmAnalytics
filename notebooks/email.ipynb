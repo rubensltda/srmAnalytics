{
 "cells": [
  {
   "cell_type": "code",
   "execution_count": null,
   "metadata": {},
   "outputs": [],
   "source": [
    "print(\"olaa mundo\")"
   ]
  },
  {
   "cell_type": "code",
   "execution_count": 2,
   "metadata": {},
   "outputs": [
    {
     "data": {
      "text/plain": [
       "(221, b'2.0.0 Service closing transmission channel')"
      ]
     },
     "execution_count": 2,
     "metadata": {},
     "output_type": "execute_result"
    }
   ],
   "source": [
    "#not working\n",
    "import smtplib\n",
    "\n",
    "mailserver = smtplib.SMTP('smtp.office365.com',587)\n",
    "mailserver.ehlo()\n",
    "mailserver.starttls()\n",
    "mailserver.login('bloomrmp@iadb.org', 'StrategicRisk22')\n",
    "#mailserver.sendmail('bloomrmp@iadb.org','rubensh@iadb.org','python email')\n",
    "mailserver.quit()"
   ]
  },
  {
   "cell_type": "code",
   "execution_count": 3,
   "metadata": {},
   "outputs": [],
   "source": [
    "# modules\n",
    "import smtplib, ssl\n",
    "from email.message import EmailMessage\n",
    "\n",
    "# content\n",
    "sender = \"bloomrmp@iadb.org\"\n",
    "reciever = \"rubensh@iadb.org\"\n",
    "password = \"StrategicRisk22\"\n",
    "msg_body = \" This email is sent as a test\"\n",
    "\n",
    "# action\n",
    "msg = EmailMessage()\n",
    "msg['subject'] = 'SRM analytics'   \n",
    "msg['from'] = sender\n",
    "msg['to'] = reciever\n",
    "msg.set_content(msg_body)\n",
    "\n",
    "## alternative #1\n",
    "# context = ssl.create_default_context()\n",
    "# with smtplib.SMTP_SSL('smtp.office365.com',587, context=context) as server:\n",
    "with smtplib.SMTP('smtp.office365.com',587) as server:\n",
    "    server.ehlo()\n",
    "    server.starttls()\n",
    "    server.login('bloomrmp@iadb.org', 'StrategicRisk22')\n",
    "    server.sendmail(sender, reciever, msg.as_string())\n",
    "    server.quit()\n",
    "\n",
    "\n",
    "## alternative #2\n",
    "# mailserver = smtplib.SMTP('smtp.office365.com',587)\n",
    "# mailserver.ehlo()\n",
    "# mailserver.starttls()\n",
    "# mailserver.login('bloomrmp@iadb.org', 'StrategicRisk22')\n",
    "# #mailserver.sendmail('bloomrmp@iadb.org','rubensh@iadb.org',msg.as_string())\n",
    "# mailserver.sendmail('bloomrmp@iadb.org','rubensh@iadb.org',msg.as_string())\n",
    "# mailserver.quit()"
   ]
  },
  {
   "cell_type": "code",
   "execution_count": null,
   "metadata": {},
   "outputs": [],
   "source": [
    "import smtplib\n",
    "\n",
    "sender = 'no_reply@mydomain.com'\n",
    "receivers = ['person@otherdomain.com']\n",
    "\n",
    "message = \"\"\"From: No Reply <no_reply@mydomain.com>\n",
    "To: Person <person@otherdomain.com>\n",
    "Subject: Test Email\n",
    "\n",
    "This is a test e-mail message.\n",
    "\"\"\"\n",
    "\n",
    "try:\n",
    "    smtp_obj = smtplib.SMTP('localhost')\n",
    "    smtp_obj.sendmail(sender, receivers, message)         \n",
    "    print(\"Successfully sent email\")\n",
    "except smtplib.SMTPException:\n",
    "    print(\"Error: unable to send email\")"
   ]
  },
  {
   "cell_type": "code",
   "execution_count": 5,
   "metadata": {},
   "outputs": [
    {
     "name": "stdout",
     "output_type": "stream",
     "text": [
      "sylviag@iadb.org, rubensh@iadb.org\n"
     ]
    }
   ],
   "source": [
    "list_test = [\"sylviag@iadb.org\",\"rubensh@iadb.org\"]\n",
    "x = ', '.join(list_test)\n",
    "print(x)"
   ]
  },
  {
   "cell_type": "code",
   "execution_count": 2,
   "metadata": {},
   "outputs": [
    {
     "ename": "SMTPAuthenticationError",
     "evalue": "(535, b'5.7.139 Authentication unsuccessful, the request did not meet the criteria to be authenticated successfully. Contact your administrator. [CH2PR16CA0007.namprd16.prod.outlook.com]')",
     "output_type": "error",
     "traceback": [
      "\u001b[1;31m---------------------------------------------------------------------------\u001b[0m",
      "\u001b[1;31mSMTPAuthenticationError\u001b[0m                   Traceback (most recent call last)",
      "Cell \u001b[1;32mIn [2], line 15\u001b[0m\n\u001b[0;32m     13\u001b[0m server\u001b[39m.\u001b[39mehlo()\n\u001b[0;32m     14\u001b[0m server\u001b[39m.\u001b[39mstarttls()\n\u001b[1;32m---> 15\u001b[0m server\u001b[39m.\u001b[39;49mlogin(sender_email, sender_password)\n\u001b[0;32m     16\u001b[0m server\u001b[39m.\u001b[39msendmail(sender_email, \u001b[39m'\u001b[39m\u001b[39mrubensltda@gmail.com\u001b[39m\u001b[39m'\u001b[39m, \u001b[39m'\u001b[39m\u001b[39mdsda\u001b[39m\u001b[39m'\u001b[39m)\n\u001b[0;32m     17\u001b[0m server\u001b[39m.\u001b[39mquit()\n",
      "File \u001b[1;32m~\\AppData\\Local\\Programs\\Python\\Python38\\lib\\smtplib.py:734\u001b[0m, in \u001b[0;36mSMTP.login\u001b[1;34m(self, user, password, initial_response_ok)\u001b[0m\n\u001b[0;32m    731\u001b[0m         last_exception \u001b[39m=\u001b[39m e\n\u001b[0;32m    733\u001b[0m \u001b[39m# We could not login successfully.  Return result of last attempt.\u001b[39;00m\n\u001b[1;32m--> 734\u001b[0m \u001b[39mraise\u001b[39;00m last_exception\n",
      "File \u001b[1;32m~\\AppData\\Local\\Programs\\Python\\Python38\\lib\\smtplib.py:723\u001b[0m, in \u001b[0;36mSMTP.login\u001b[1;34m(self, user, password, initial_response_ok)\u001b[0m\n\u001b[0;32m    721\u001b[0m method_name \u001b[39m=\u001b[39m \u001b[39m'\u001b[39m\u001b[39mauth_\u001b[39m\u001b[39m'\u001b[39m \u001b[39m+\u001b[39m authmethod\u001b[39m.\u001b[39mlower()\u001b[39m.\u001b[39mreplace(\u001b[39m'\u001b[39m\u001b[39m-\u001b[39m\u001b[39m'\u001b[39m, \u001b[39m'\u001b[39m\u001b[39m_\u001b[39m\u001b[39m'\u001b[39m)\n\u001b[0;32m    722\u001b[0m \u001b[39mtry\u001b[39;00m:\n\u001b[1;32m--> 723\u001b[0m     (code, resp) \u001b[39m=\u001b[39m \u001b[39mself\u001b[39;49m\u001b[39m.\u001b[39;49mauth(\n\u001b[0;32m    724\u001b[0m         authmethod, \u001b[39mgetattr\u001b[39;49m(\u001b[39mself\u001b[39;49m, method_name),\n\u001b[0;32m    725\u001b[0m         initial_response_ok\u001b[39m=\u001b[39;49minitial_response_ok)\n\u001b[0;32m    726\u001b[0m     \u001b[39m# 235 == 'Authentication successful'\u001b[39;00m\n\u001b[0;32m    727\u001b[0m     \u001b[39m# 503 == 'Error: already authenticated'\u001b[39;00m\n\u001b[0;32m    728\u001b[0m     \u001b[39mif\u001b[39;00m code \u001b[39min\u001b[39;00m (\u001b[39m235\u001b[39m, \u001b[39m503\u001b[39m):\n",
      "File \u001b[1;32m~\\AppData\\Local\\Programs\\Python\\Python38\\lib\\smtplib.py:646\u001b[0m, in \u001b[0;36mSMTP.auth\u001b[1;34m(self, mechanism, authobject, initial_response_ok)\u001b[0m\n\u001b[0;32m    644\u001b[0m \u001b[39mif\u001b[39;00m code \u001b[39min\u001b[39;00m (\u001b[39m235\u001b[39m, \u001b[39m503\u001b[39m):\n\u001b[0;32m    645\u001b[0m     \u001b[39mreturn\u001b[39;00m (code, resp)\n\u001b[1;32m--> 646\u001b[0m \u001b[39mraise\u001b[39;00m SMTPAuthenticationError(code, resp)\n",
      "\u001b[1;31mSMTPAuthenticationError\u001b[0m: (535, b'5.7.139 Authentication unsuccessful, the request did not meet the criteria to be authenticated successfully. Contact your administrator. [CH2PR16CA0007.namprd16.prod.outlook.com]')"
     ]
    }
   ],
   "source": [
    "from email.message import EmailMessage\n",
    "from email.mime.text import MIMEText\n",
    "from email.mime.base import MIMEBase\n",
    "from email.mime.image import MIMEImage\n",
    "from email.mime.multipart import MIMEMultipart\n",
    "import smtplib, ssl\n",
    "\n",
    "\n",
    "sender_email = 'bloomrmp@iadb.org'\n",
    "sender_password = 'SrmRisk2022'\n",
    "\n",
    "with smtplib.SMTP('smtp.office365.com',587) as server:\n",
    "    server.ehlo()\n",
    "    server.starttls()\n",
    "    server.login(sender_email, sender_password)\n",
    "    server.sendmail(sender_email, 'rubensltda@gmail.com', 'dsda')\n",
    "    server.quit()"
   ]
  },
  {
   "cell_type": "code",
   "execution_count": null,
   "metadata": {},
   "outputs": [],
   "source": []
  }
 ],
 "metadata": {
  "kernelspec": {
   "display_name": "Python 3.8.0 ('venv': venv)",
   "language": "python",
   "name": "python3"
  },
  "language_info": {
   "codemirror_mode": {
    "name": "ipython",
    "version": 3
   },
   "file_extension": ".py",
   "mimetype": "text/x-python",
   "name": "python",
   "nbconvert_exporter": "python",
   "pygments_lexer": "ipython3",
   "version": "3.8.0"
  },
  "orig_nbformat": 4,
  "vscode": {
   "interpreter": {
    "hash": "a4a1213aaa6e1222726bdb363e40511ce2427151735274b6cc5be6d4da1c6f38"
   }
  }
 },
 "nbformat": 4,
 "nbformat_minor": 2
}
