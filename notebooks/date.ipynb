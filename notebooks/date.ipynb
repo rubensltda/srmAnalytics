{
 "cells": [
  {
   "cell_type": "code",
   "execution_count": 28,
   "metadata": {},
   "outputs": [],
   "source": [
    "import datetime as dt\n",
    "def find_next_JAJO(date_input):\n",
    "    next_JAJO = date_input\n",
    "    date_day = date_input.day\n",
    "    date_month = date_input.month\n",
    "    date_year = date_input.year\n",
    "    \n",
    "    if (date_input > dt.date(date_year, 1, 15)) and (date_input <= dt.date(date_year, 4, 15)):\n",
    "        next_JAJO = dt.date(date_year, 4, 15)\n",
    "    elif  (date_input > dt.date(date_year, 4, 15)) and (date_input <= dt.date(date_year, 7, 15)):\n",
    "        next_JAJO = dt.date(date_year, 7, 15)\n",
    "    elif  (date_input > dt.date(date_year, 7, 15)) and (date_input <= dt.date(date_year, 10, 15)):\n",
    "        next_JAJO = dt.date(date_year, 10, 15)\n",
    "    elif  (date_input <= dt.date(date_year, 1, 15)):\n",
    "        next_JAJO = dt.date(date_year, 1, 15)\n",
    "    else:\n",
    "        next_JAJO = dt.date(date_year+1, 1, 15)\n",
    "    return next_JAJO\n"
   ]
  },
  {
   "cell_type": "code",
   "execution_count": 48,
   "metadata": {},
   "outputs": [
    {
     "name": "stdout",
     "output_type": "stream",
     "text": [
      "2023-04-15\n"
     ]
    }
   ],
   "source": [
    "date_test = dt.date(2023, 1, 16)\n",
    "\n",
    "print(find_next_JAJO(date_test))"
   ]
  },
  {
   "cell_type": "code",
   "execution_count": null,
   "metadata": {},
   "outputs": [],
   "source": []
  }
 ],
 "metadata": {
  "kernelspec": {
   "display_name": "Python 3.8.0 ('venv': venv)",
   "language": "python",
   "name": "python3"
  },
  "language_info": {
   "codemirror_mode": {
    "name": "ipython",
    "version": 3
   },
   "file_extension": ".py",
   "mimetype": "text/x-python",
   "name": "python",
   "nbconvert_exporter": "python",
   "pygments_lexer": "ipython3",
   "version": "3.8.0"
  },
  "orig_nbformat": 4,
  "vscode": {
   "interpreter": {
    "hash": "80225045fa8efb470fa377f5e49691da841d060de9cae644fd81a5648b8137b1"
   }
  }
 },
 "nbformat": 4,
 "nbformat_minor": 2
}
