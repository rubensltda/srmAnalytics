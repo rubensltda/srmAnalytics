{
 "cells": [
  {
   "cell_type": "code",
   "execution_count": 10,
   "metadata": {},
   "outputs": [
    {
     "name": "stdout",
     "output_type": "stream",
     "text": [
      "['c:\\\\Users\\\\RUBENSH\\\\local\\\\srmAnalytics\\\\notebooks', 'c:\\\\Users\\\\RUBENSH\\\\local\\\\srmAnalytics', 'c:\\\\Users\\\\RUBENSH\\\\local\\\\srmAnalytics', 'c:\\\\Users\\\\RUBENSH\\\\local\\\\srmAnalytics', 'C:\\\\Users\\\\RUBENSH\\\\local\\\\srmAnalytics\\\\src', 'C:\\\\Users\\\\RUBENSH\\\\AppData\\\\Local\\\\Programs\\\\Python\\\\Python38\\\\python38.zip', 'C:\\\\Users\\\\RUBENSH\\\\AppData\\\\Local\\\\Programs\\\\Python\\\\Python38\\\\DLLs', 'C:\\\\Users\\\\RUBENSH\\\\AppData\\\\Local\\\\Programs\\\\Python\\\\Python38\\\\lib', 'C:\\\\Users\\\\RUBENSH\\\\AppData\\\\Local\\\\Programs\\\\Python\\\\Python38', 'c:\\\\Users\\\\RUBENSH\\\\local\\\\srmAnalytics\\\\venv', '', 'c:\\\\Users\\\\RUBENSH\\\\local\\\\srmAnalytics\\\\venv\\\\lib\\\\site-packages', 'c:\\\\Users\\\\RUBENSH\\\\local\\\\srmAnalytics\\\\venv\\\\lib\\\\site-packages\\\\win32', 'c:\\\\Users\\\\RUBENSH\\\\local\\\\srmAnalytics\\\\venv\\\\lib\\\\site-packages\\\\win32\\\\lib', 'c:\\\\Users\\\\RUBENSH\\\\local\\\\srmAnalytics\\\\venv\\\\lib\\\\site-packages\\\\Pythonwin']\n"
     ]
    }
   ],
   "source": [
    "import os, sys\n",
    "print(sys.path)\n"
   ]
  },
  {
   "cell_type": "code",
   "execution_count": 11,
   "metadata": {},
   "outputs": [
    {
     "name": "stdout",
     "output_type": "stream",
     "text": [
      "['c:\\\\Users\\\\RUBENSH\\\\local\\\\srmAnalytics\\\\notebooks', 'c:\\\\Users\\\\RUBENSH\\\\local\\\\srmAnalytics', 'c:\\\\Users\\\\RUBENSH\\\\local\\\\srmAnalytics', 'c:\\\\Users\\\\RUBENSH\\\\local\\\\srmAnalytics', 'c:\\\\Users\\\\RUBENSH\\\\local\\\\srmAnalytics', 'C:\\\\Users\\\\RUBENSH\\\\local\\\\srmAnalytics\\\\src', 'C:\\\\Users\\\\RUBENSH\\\\AppData\\\\Local\\\\Programs\\\\Python\\\\Python38\\\\python38.zip', 'C:\\\\Users\\\\RUBENSH\\\\AppData\\\\Local\\\\Programs\\\\Python\\\\Python38\\\\DLLs', 'C:\\\\Users\\\\RUBENSH\\\\AppData\\\\Local\\\\Programs\\\\Python\\\\Python38\\\\lib', 'C:\\\\Users\\\\RUBENSH\\\\AppData\\\\Local\\\\Programs\\\\Python\\\\Python38', 'c:\\\\Users\\\\RUBENSH\\\\local\\\\srmAnalytics\\\\venv', '', 'c:\\\\Users\\\\RUBENSH\\\\local\\\\srmAnalytics\\\\venv\\\\lib\\\\site-packages', 'c:\\\\Users\\\\RUBENSH\\\\local\\\\srmAnalytics\\\\venv\\\\lib\\\\site-packages\\\\win32', 'c:\\\\Users\\\\RUBENSH\\\\local\\\\srmAnalytics\\\\venv\\\\lib\\\\site-packages\\\\win32\\\\lib', 'c:\\\\Users\\\\RUBENSH\\\\local\\\\srmAnalytics\\\\venv\\\\lib\\\\site-packages\\\\Pythonwin']\n"
     ]
    }
   ],
   "source": [
    "sys.path.insert(1, os.path.abspath('../'))\n",
    "print(sys.path)"
   ]
  },
  {
   "cell_type": "code",
   "execution_count": 20,
   "metadata": {},
   "outputs": [],
   "source": [
    "#print(sys.path)\n",
    "\n",
    "with open('../parameters.txt') as f:\n",
    "    #lines = f.readlines()\n",
    "    readline=f.read().splitlines()\n",
    "\n"
   ]
  },
  {
   "cell_type": "code",
   "execution_count": 23,
   "metadata": {},
   "outputs": [
    {
     "name": "stdout",
     "output_type": "stream",
     "text": [
      "['fdqhwgnejqydpzej', 'SRM']\n",
      "SRM\n"
     ]
    }
   ],
   "source": [
    "print(readline)\n",
    "print(readline[1])"
   ]
  },
  {
   "cell_type": "code",
   "execution_count": null,
   "metadata": {},
   "outputs": [],
   "source": []
  }
 ],
 "metadata": {
  "kernelspec": {
   "display_name": "Python 3.8.10 ('venv': venv)",
   "language": "python",
   "name": "python3"
  },
  "language_info": {
   "codemirror_mode": {
    "name": "ipython",
    "version": 3
   },
   "file_extension": ".py",
   "mimetype": "text/x-python",
   "name": "python",
   "nbconvert_exporter": "python",
   "pygments_lexer": "ipython3",
   "version": "3.8.10"
  },
  "orig_nbformat": 4,
  "vscode": {
   "interpreter": {
    "hash": "ddd92103883e93516624e2d7adb34f42b4fa55ac07618e3e29cadc935d72b911"
   }
  }
 },
 "nbformat": 4,
 "nbformat_minor": 2
}
