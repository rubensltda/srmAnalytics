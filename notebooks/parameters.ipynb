{
 "cells": [
  {
   "cell_type": "code",
   "execution_count": 18,
   "metadata": {},
   "outputs": [
    {
     "name": "stdout",
     "output_type": "stream",
     "text": [
      "['c:\\\\Users\\\\RUBENSH\\\\local\\\\srmAnalytics\\\\notebooks', 'c:\\\\Users\\\\RUBENSH\\\\local\\\\srmAnalytics\\\\notebooks', 'c:\\\\Users\\\\RUBENSH\\\\local\\\\srmAnalytics\\\\notebooks', 'c:\\\\Users\\\\RUBENSH\\\\local\\\\srmAnalytics\\\\notebooks', 'c:\\\\Users\\\\RUBENSH\\\\local\\\\srmAnalytics\\\\notebooks', 'c:\\\\Users\\\\RUBENSH\\\\local\\\\srmAnalytics\\\\notebooks', 'c:\\\\Users\\\\RUBENSH\\\\local\\\\srmAnalytics\\\\notebooks', 'c:\\\\Users\\\\RUBENSH\\\\local\\\\srmAnalytics\\\\notebooks', '..', 'c:\\\\Users\\\\RUBENSH\\\\local\\\\srmAnalytics', 'c:\\\\Users\\\\RUBENSH\\\\local\\\\srmAnalytics', 'c:\\\\Users\\\\RUBENSH\\\\local\\\\srmAnalytics\\\\notebooks', 'c:\\\\Users\\\\RUBENSH\\\\local\\\\srmAnalytics\\\\notebooks', 'C:\\\\Users\\\\RUBENSH\\\\local\\\\srmAnalytics\\\\src', 'C:\\\\Users\\\\RUBENSH\\\\AppData\\\\Local\\\\Programs\\\\Python\\\\Python38\\\\python38.zip', 'C:\\\\Users\\\\RUBENSH\\\\AppData\\\\Local\\\\Programs\\\\Python\\\\Python38\\\\DLLs', 'C:\\\\Users\\\\RUBENSH\\\\AppData\\\\Local\\\\Programs\\\\Python\\\\Python38\\\\lib', 'C:\\\\Users\\\\RUBENSH\\\\AppData\\\\Local\\\\Programs\\\\Python\\\\Python38', 'c:\\\\Users\\\\RUBENSH\\\\local\\\\srmAnalytics\\\\venv', '', 'c:\\\\Users\\\\RUBENSH\\\\local\\\\srmAnalytics\\\\venv\\\\lib\\\\site-packages', 'c:\\\\Users\\\\RUBENSH\\\\local\\\\srmAnalytics\\\\venv\\\\lib\\\\site-packages\\\\win32', 'c:\\\\Users\\\\RUBENSH\\\\local\\\\srmAnalytics\\\\venv\\\\lib\\\\site-packages\\\\win32\\\\lib', 'c:\\\\Users\\\\RUBENSH\\\\local\\\\srmAnalytics\\\\venv\\\\lib\\\\site-packages\\\\Pythonwin']\n"
     ]
    },
    {
     "ename": "FileNotFoundError",
     "evalue": "[Errno 2] No such file or directory: 'parameters.txt'",
     "output_type": "error",
     "traceback": [
      "\u001b[1;31m---------------------------------------------------------------------------\u001b[0m",
      "\u001b[1;31mFileNotFoundError\u001b[0m                         Traceback (most recent call last)",
      "Cell \u001b[1;32mIn [18], line 6\u001b[0m\n\u001b[0;32m      2\u001b[0m sys\u001b[39m.\u001b[39mpath\u001b[39m.\u001b[39minsert(\u001b[39m1\u001b[39m, os\u001b[39m.\u001b[39mpath\u001b[39m.\u001b[39mabspath(\u001b[39m'\u001b[39m\u001b[39m./\u001b[39m\u001b[39m'\u001b[39m))\n\u001b[0;32m      4\u001b[0m \u001b[39mprint\u001b[39m(sys\u001b[39m.\u001b[39mpath)\n\u001b[1;32m----> 6\u001b[0m \u001b[39mwith\u001b[39;00m \u001b[39mopen\u001b[39;49m(\u001b[39m'\u001b[39;49m\u001b[39mparameters.txt\u001b[39;49m\u001b[39m'\u001b[39;49m) \u001b[39mas\u001b[39;00m f:\n\u001b[0;32m      7\u001b[0m     lines \u001b[39m=\u001b[39m f\u001b[39m.\u001b[39mreadlines()\n",
      "\u001b[1;31mFileNotFoundError\u001b[0m: [Errno 2] No such file or directory: 'parameters.txt'"
     ]
    }
   ],
   "source": [
    "import os, sys\n",
    "sys.path.insert(1, os.path.abspath('./'))\n",
    "\n",
    "print(sys.path)\n",
    "\n"
   ]
  },
  {
   "cell_type": "code",
   "execution_count": 19,
   "metadata": {},
   "outputs": [
    {
     "ename": "FileNotFoundError",
     "evalue": "[Errno 2] No such file or directory: 'parameters.txt'",
     "output_type": "error",
     "traceback": [
      "\u001b[1;31m---------------------------------------------------------------------------\u001b[0m",
      "\u001b[1;31mFileNotFoundError\u001b[0m                         Traceback (most recent call last)",
      "Cell \u001b[1;32mIn [19], line 1\u001b[0m\n\u001b[1;32m----> 1\u001b[0m \u001b[39mwith\u001b[39;00m \u001b[39mopen\u001b[39;49m(\u001b[39m'\u001b[39;49m\u001b[39mparameters.txt\u001b[39;49m\u001b[39m'\u001b[39;49m) \u001b[39mas\u001b[39;00m f:\n\u001b[0;32m      2\u001b[0m     lines \u001b[39m=\u001b[39m f\u001b[39m.\u001b[39mreadlines()\n",
      "\u001b[1;31mFileNotFoundError\u001b[0m: [Errno 2] No such file or directory: 'parameters.txt'"
     ]
    }
   ],
   "source": [
    "with open('parameters.txt') as f:\n",
    "    lines = f.readlines()"
   ]
  },
  {
   "cell_type": "code",
   "execution_count": null,
   "metadata": {},
   "outputs": [],
   "source": []
  }
 ],
 "metadata": {
  "kernelspec": {
   "display_name": "Python 3.8.10 ('venv': venv)",
   "language": "python",
   "name": "python3"
  },
  "language_info": {
   "codemirror_mode": {
    "name": "ipython",
    "version": 3
   },
   "file_extension": ".py",
   "mimetype": "text/x-python",
   "name": "python",
   "nbconvert_exporter": "python",
   "pygments_lexer": "ipython3",
   "version": "3.8.10"
  },
  "orig_nbformat": 4,
  "vscode": {
   "interpreter": {
    "hash": "ddd92103883e93516624e2d7adb34f42b4fa55ac07618e3e29cadc935d72b911"
   }
  }
 },
 "nbformat": 4,
 "nbformat_minor": 2
}
