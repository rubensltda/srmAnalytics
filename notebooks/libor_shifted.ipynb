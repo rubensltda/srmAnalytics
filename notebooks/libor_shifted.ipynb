{
 "cells": [
  {
   "cell_type": "code",
   "execution_count": 2,
   "metadata": {},
   "outputs": [],
   "source": [
    "\n",
    "import pandas as pd\n",
    "import datetime as dt\n",
    "from dateutil.relativedelta import relativedelta\n",
    "import numpy as np\n",
    "\n",
    "path_mkt_file = '../data/query_bbg.xlsx'    \n",
    "pd_us_rates_data = pd.read_excel(path_mkt_file, sheet_name='query_rates', header=0)\n",
    "pd_us_rates_data['shifted_values'] = ''\n",
    "\n",
    "first_date = min(pd_us_rates_data['Dates'])\n",
    "#print(first_date)\n",
    "\n",
    "rate_index = 'US0003M Index'\n",
    "rate_index_shifted = 'shifted_values'\n",
    "lag_months = -3\n",
    "\n",
    "for index, row in pd_us_rates_data.iterrows():\n",
    "    found_value = False\n",
    "    shifted_date = row['Dates'] + relativedelta(months=lag_months)\n",
    "    shifted_date = shifted_date + relativedelta(days=+1)\n",
    "\n",
    "    while(found_value == False and shifted_date > first_date):\n",
    "        shifted_date = shifted_date + relativedelta(days=-1)\n",
    "        shifted_value = pd_us_rates_data[pd_us_rates_data['Dates']==shifted_date]\n",
    "        if (len(shifted_value[rate_index]) != 0):\n",
    "            if(~np.isnan(shifted_value[rate_index].iloc[0])):\n",
    "                found_value = True\n",
    "                x = shifted_value[rate_index].iloc[0]\n",
    "                pd_us_rates_data.loc[index, rate_index_shifted] = x\n",
    "\n",
    "\n",
    "pd_us_rates_data.to_csv(\"shifted.csv\")"
   ]
  },
  {
   "cell_type": "code",
   "execution_count": null,
   "metadata": {},
   "outputs": [],
   "source": [
    "# old code\n",
    "import pandas as pd\n",
    "import datetime as dt\n",
    "from dateutil.relativedelta import relativedelta\n",
    "import numpy as np\n",
    "\n",
    "path_mkt_file = '../data/query_bbg.xlsx'    \n",
    "pd_us_rates_data = pd.read_excel(path_mkt_file, sheet_name='query_rates', header=0)\n",
    "pd_us_rates_data['shifted_values'] = ''\n",
    "\n",
    "first_date = min(pd_us_rates_data['Dates'])\n",
    "#print(first_date)\n",
    "\n",
    "for index, row in pd_us_rates_data.iterrows():\n",
    "    date = row['Dates']\n",
    "    shifted_date = date + relativedelta(months=-3)\n",
    "    shifted_value = pd_us_rates_data[pd_us_rates_data['Dates']==shifted_date]\n",
    "    \n",
    "    if (len(shifted_value['US0003M Index']) == 0):\n",
    "        found_value = False\n",
    "    elif(np.isnan(shifted_value['US0003M Index'].iloc[0])):\n",
    "        found_value = False\n",
    "    else:\n",
    "        found_value = True\n",
    "    \n",
    "    while(found_value == False and shifted_date > first_date):\n",
    "        shifted_date = shifted_date + relativedelta(days=-1)\n",
    "        shifted_value = pd_us_rates_data[pd_us_rates_data['Dates']==shifted_date]\n",
    "        if (len(shifted_value['US0003M Index']) != 0):\n",
    "            if(~np.isnan(shifted_value['US0003M Index'].iloc[0])):\n",
    "                found_value = True\n",
    "    \n",
    "    if(found_value == True):\n",
    "        x = shifted_value['US0003M Index'].iloc[0]\n",
    "        pd_us_rates_data.loc[index, 'shifted_values'] = x\n",
    "        \n",
    "      \n",
    "\n",
    "\n",
    "pd_us_rates_data.to_csv(\"shifted.csv\")"
   ]
  }
 ],
 "metadata": {
  "kernelspec": {
   "display_name": "Python 3.8.0 ('venv': venv)",
   "language": "python",
   "name": "python3"
  },
  "language_info": {
   "codemirror_mode": {
    "name": "ipython",
    "version": 3
   },
   "file_extension": ".py",
   "mimetype": "text/x-python",
   "name": "python",
   "nbconvert_exporter": "python",
   "pygments_lexer": "ipython3",
   "version": "3.8.0"
  },
  "orig_nbformat": 4,
  "vscode": {
   "interpreter": {
    "hash": "80225045fa8efb470fa377f5e49691da841d060de9cae644fd81a5648b8137b1"
   }
  }
 },
 "nbformat": 4,
 "nbformat_minor": 2
}
